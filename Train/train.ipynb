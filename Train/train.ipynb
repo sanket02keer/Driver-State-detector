{
 "cells": [
  {
   "cell_type": "code",
   "execution_count": 1,
   "metadata": {},
   "outputs": [
    {
     "name": "stderr",
     "output_type": "stream",
     "text": [
      "Using TensorFlow backend.\n"
     ]
    }
   ],
   "source": [
    "import tensorflow as tf\n",
    "import csv\n",
    "import numpy as np \n",
    "import keras\n",
    "from keras.preprocessing.image import ImageDataGenerator\n",
    "from keras.models import Sequential\n",
    "from keras.layers import Conv2D,Flatten,Dense,Activation,Dropout,MaxPooling2D\n",
    "from keras.activations import relu\n",
    "from keras.optimizers import Adam\n",
    "import datetime\n",
    "import os"
   ]
  },
  {
   "cell_type": "code",
   "execution_count": 2,
   "metadata": {},
   "outputs": [],
   "source": [
    "#we will use images 26x34x1 (1 is for grayscale images)\n",
    "height = 26\n",
    "width = 34\n",
    "dims = 1"
   ]
  },
  {
   "cell_type": "code",
   "execution_count": 3,
   "metadata": {},
   "outputs": [],
   "source": [
    "def readCsv(path):\n",
    "\n",
    "\twith open(path,'r') as f:\n",
    "\t\t#read the scv file with the dictionary format \n",
    "\t\treader = csv.DictReader(f)\n",
    "\t\trows = list(reader)\n",
    "\n",
    "\t#imgs is a numpy array with all the images\n",
    "\t#tgs is a numpy array with the tags of the images\n",
    "\timgs = np.empty((len(list(rows)),height,width, dims),dtype=np.uint8)\n",
    "\ttgs = np.empty((len(list(rows)),1))\n",
    "\t\t\n",
    "\tfor row,i in zip(rows,range(len(rows))):\n",
    "\t\t\t\n",
    "\t\t#convert the list back to the image format\n",
    "\t\timg = row['image']\n",
    "\t\timg = img.strip('[').strip(']').split(', ')\n",
    "\t\tim = np.array(img,dtype=np.uint8)\n",
    "\t\tim = im.reshape((26,34))\n",
    "\t\tim = np.expand_dims(im, axis=2)\n",
    "\t\timgs[i] = im\n",
    "\n",
    "\t\t#the tag for open is 1 and for close is 0\n",
    "\t\ttag = row['state']\n",
    "\t\tif tag == 'open':\n",
    "\t\t\ttgs[i] = 1\n",
    "\t\telse:\n",
    "\t\t\ttgs[i] = 0\n",
    "\t\n",
    "\t#shuffle the dataset\n",
    "\tindex = np.random.permutation(imgs.shape[0])\n",
    "\timgs = imgs[index]\n",
    "\ttgs = tgs[index]\n",
    "\n",
    "\t#return images and their respective tags\n",
    "\treturn imgs,tgs\t"
   ]
  },
  {
   "cell_type": "code",
   "execution_count": 4,
   "metadata": {},
   "outputs": [],
   "source": [
    "#make the convolution neural network\n",
    "def makeModel():\n",
    "\tmodel = Sequential()\n",
    "\n",
    "\tmodel.add(Conv2D(32, (3,3), padding = 'same', input_shape=(height,width,dims)))\n",
    "\tmodel.add(Activation('relu'))\n",
    "\tmodel.add(MaxPooling2D(pool_size=(2,2)))\n",
    "\n",
    "\tmodel.add(Conv2D(64, (2,2), padding= 'same'))\n",
    "\tmodel.add(Activation('relu'))\n",
    "\tmodel.add(MaxPooling2D(pool_size=(2, 2)))\n",
    "\n",
    "\tmodel.add(Conv2D(128, (2,2), padding='same'))\n",
    "\tmodel.add(Activation('relu'))\n",
    "\tmodel.add(MaxPooling2D(pool_size=(2, 2)))\n",
    "\n",
    "\tmodel.add(Dropout(0.25))\n",
    "\n",
    "\tmodel.add(Flatten())\n",
    "\n",
    "\tmodel.add(Dense(512))\n",
    "\tmodel.add(Activation('relu'))\n",
    "\n",
    "\tmodel.add(Dense(512))\n",
    "\tmodel.add(Activation('relu'))\n",
    "\n",
    "\tmodel.add(Dense(1))\n",
    "\tmodel.add(Activation('sigmoid'))\n",
    "\n",
    "\t\n",
    "\tmodel.compile(optimizer=Adam(lr=0.001), loss='binary_crossentropy',metrics=['accuracy'])\n",
    "\n",
    "\treturn model\n"
   ]
  },
  {
   "cell_type": "code",
   "execution_count": 5,
   "metadata": {},
   "outputs": [],
   "source": [
    "def main():\n",
    "\n",
    "\txTrain ,yTrain = readCsv('dataset.csv')\n",
    "\tprint (xTrain.shape[0])\n",
    "\t#scale the values of the images between 0 and 1\n",
    "\txTrain = xTrain.astype('float32')\n",
    "\txTrain /= 255\n",
    "\n",
    "\tmodel = makeModel()\n",
    "\n",
    "\t#do some data augmentation\n",
    "\tdatagen = ImageDataGenerator(\n",
    "        rotation_range=10,\n",
    "        width_shift_range=0.2,\n",
    "        height_shift_range=0.2,\n",
    "        )\n",
    "\tdatagen.fit(xTrain)\n",
    "\n",
    "\t#TENSORBOARD\n",
    "\n",
    "\tlog_dir = os.path.join(\"logs\",\"fit\",datetime.datetime.now().strftime(\"%Y%m%d-%H%M%S\"),)\n",
    "\ttensorboard_callbacks=tf.keras.callbacks.TensorBoard(log_dir=log_dir, histogram_freq=1)\n",
    "\n",
    "\t#train the model\n",
    "\tmodel.fit_generator(datagen.flow(xTrain,yTrain,batch_size=32),\n",
    "\t\t\t\t\t\tsteps_per_epoch=len(xTrain) / 32, epochs=10)\n",
    "\t\n",
    "\t#save the model\n",
    "\tmodel.save('Model.hdf5')\n"
   ]
  },
  {
   "cell_type": "code",
   "execution_count": 6,
   "metadata": {},
   "outputs": [
    {
     "name": "stdout",
     "output_type": "stream",
     "text": [
      "2874\n",
      "WARNING:tensorflow:From C:\\Users\\NOTEBOOK\\Anaconda3\\envs\\yourenvname\\lib\\site-packages\\keras\\backend\\tensorflow_backend.py:4070: The name tf.nn.max_pool is deprecated. Please use tf.nn.max_pool2d instead.\n",
      "\n",
      "WARNING:tensorflow:From C:\\Users\\NOTEBOOK\\Anaconda3\\envs\\yourenvname\\lib\\site-packages\\tensorflow\\python\\ops\\nn_impl.py:180: add_dispatch_support.<locals>.wrapper (from tensorflow.python.ops.array_ops) is deprecated and will be removed in a future version.\n",
      "Instructions for updating:\n",
      "Use tf.where in 2.0, which has the same broadcast rule as np.where\n",
      "WARNING:tensorflow:From C:\\Users\\NOTEBOOK\\Anaconda3\\envs\\yourenvname\\lib\\site-packages\\keras\\backend\\tensorflow_backend.py:422: The name tf.global_variables is deprecated. Please use tf.compat.v1.global_variables instead.\n",
      "\n",
      "Epoch 1/10\n",
      "90/89 [==============================] - 5s 54ms/step - loss: 0.4347 - accuracy: 0.7857\n",
      "Epoch 2/10\n",
      "90/89 [==============================] - 3s 37ms/step - loss: 0.2201 - accuracy: 0.9158\n",
      "Epoch 3/10\n",
      "90/89 [==============================] - 3s 36ms/step - loss: 0.1792 - accuracy: 0.9384\n",
      "Epoch 4/10\n",
      "90/89 [==============================] - 3s 36ms/step - loss: 0.1405 - accuracy: 0.9527\n",
      "Epoch 5/10\n",
      "90/89 [==============================] - 3s 35ms/step - loss: 0.1453 - accuracy: 0.9523\n",
      "Epoch 6/10\n",
      "90/89 [==============================] - 3s 39ms/step - loss: 0.1083 - accuracy: 0.9638\n",
      "Epoch 7/10\n",
      "90/89 [==============================] - 3s 37ms/step - loss: 0.0904 - accuracy: 0.9701\n",
      "Epoch 8/10\n",
      "90/89 [==============================] - 3s 36ms/step - loss: 0.0944 - accuracy: 0.9683\n",
      "Epoch 9/10\n",
      "90/89 [==============================] - 3s 37ms/step - loss: 0.0635 - accuracy: 0.9760\n",
      "Epoch 10/10\n",
      "90/89 [==============================] - 3s 38ms/step - loss: 0.0681 - accuracy: 0.9739\n"
     ]
    }
   ],
   "source": [
    "if __name__ == '__main__':\n",
    "\tmain()\n"
   ]
  },
  {
   "cell_type": "code",
   "execution_count": null,
   "metadata": {},
   "outputs": [],
   "source": []
  }
 ],
 "metadata": {
  "kernelspec": {
   "display_name": "Python 3",
   "language": "python",
   "name": "python3"
  },
  "language_info": {
   "codemirror_mode": {
    "name": "ipython",
    "version": 3
   },
   "file_extension": ".py",
   "mimetype": "text/x-python",
   "name": "python",
   "nbconvert_exporter": "python",
   "pygments_lexer": "ipython3",
   "version": "3.6.7"
  }
 },
 "nbformat": 4,
 "nbformat_minor": 4
}
